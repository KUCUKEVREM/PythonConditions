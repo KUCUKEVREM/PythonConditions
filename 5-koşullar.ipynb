{
 "cells": [
  {
   "cell_type": "code",
   "execution_count": 1,
   "id": "2e5102f6",
   "metadata": {},
   "outputs": [
    {
     "data": {
      "text/plain": [
       "True"
      ]
     },
     "execution_count": 1,
     "metadata": {},
     "output_type": "execute_result"
    }
   ],
   "source": [
    "3>1"
   ]
  },
  {
   "cell_type": "code",
   "execution_count": 7,
   "id": "31ce69de",
   "metadata": {},
   "outputs": [
    {
     "name": "stdout",
     "output_type": "stream",
     "text": [
      "merhaba\n"
     ]
    }
   ],
   "source": [
    "print(\"merhaba\")"
   ]
  },
  {
   "cell_type": "code",
   "execution_count": 8,
   "id": "e4492a54",
   "metadata": {},
   "outputs": [],
   "source": [
    "x= 10"
   ]
  },
  {
   "cell_type": "code",
   "execution_count": 9,
   "id": "f790173a",
   "metadata": {},
   "outputs": [
    {
     "name": "stdout",
     "output_type": "stream",
     "text": [
      "x in değeri: x\n"
     ]
    }
   ],
   "source": [
    "print(\"x in değeri: x\")"
   ]
  },
  {
   "cell_type": "code",
   "execution_count": 13,
   "id": "503cb092",
   "metadata": {},
   "outputs": [
    {
     "name": "stdout",
     "output_type": "stream",
     "text": [
      "x'in değeri: 10\n"
     ]
    }
   ],
   "source": [
    "print(f\"x'in değeri: {x}\")"
   ]
  },
  {
   "cell_type": "code",
   "execution_count": 15,
   "id": "d6bfb5b7",
   "metadata": {},
   "outputs": [],
   "source": [
    "x=4\n",
    "y=3"
   ]
  },
  {
   "cell_type": "code",
   "execution_count": 16,
   "id": "9a3a6a19",
   "metadata": {},
   "outputs": [
    {
     "name": "stdout",
     "output_type": "stream",
     "text": [
      "x'in değeri: 3\n"
     ]
    }
   ],
   "source": [
    "if x>y: print(f\"x'in değeri: {y}\")"
   ]
  },
  {
   "cell_type": "code",
   "execution_count": 18,
   "id": "701e1ad3",
   "metadata": {},
   "outputs": [
    {
     "name": "stdout",
     "output_type": "stream",
     "text": [
      "x gerçekten de y'den büyükmüş\n",
      "çünkü x'in değeri 4 ve y'nin değeri 3\n"
     ]
    }
   ],
   "source": [
    "if x>y:\n",
    "    print(\"x gerçekten de y'den büyükmüş\")\n",
    "    print(f\"çünkü x'in değeri {x} ve y'nin değeri {y}\")"
   ]
  },
  {
   "cell_type": "code",
   "execution_count": 19,
   "id": "92c321dd",
   "metadata": {},
   "outputs": [],
   "source": [
    "a=5\n",
    "b=6"
   ]
  },
  {
   "cell_type": "code",
   "execution_count": 23,
   "id": "afb51742",
   "metadata": {},
   "outputs": [
    {
     "name": "stdout",
     "output_type": "stream",
     "text": [
      "burası if kontrolünün dışında\n"
     ]
    }
   ],
   "source": [
    "if a > b:\n",
    "    print(\"a, b'den büyüktür\")\n",
    "    print(\"gerçekten büyük\")\n",
    "print(\"burası if kontrolünün dışında\")"
   ]
  },
  {
   "cell_type": "code",
   "execution_count": 21,
   "id": "3d2982eb",
   "metadata": {},
   "outputs": [],
   "source": [
    "#indentation"
   ]
  },
  {
   "cell_type": "code",
   "execution_count": 24,
   "id": "c09b9568",
   "metadata": {},
   "outputs": [
    {
     "name": "stdout",
     "output_type": "stream",
     "text": [
      "b, a'dan büyüktür\n",
      "x, yden büyüktür\n"
     ]
    }
   ],
   "source": [
    "if b > a:\n",
    "    print(\"b, a'dan büyüktür\")\n",
    "    if x>y:\n",
    "        print(\"x, yden büyüktür\")"
   ]
  },
  {
   "cell_type": "code",
   "execution_count": 30,
   "id": "46e60a5c",
   "metadata": {},
   "outputs": [],
   "source": [
    "benim_sayim =10\n",
    "diğer_sayi =10"
   ]
  },
  {
   "cell_type": "code",
   "execution_count": 31,
   "id": "5aff4671",
   "metadata": {},
   "outputs": [
    {
     "name": "stdout",
     "output_type": "stream",
     "text": [
      "hiçbir koşul tutmadı, demek ki bunlar eşit\n"
     ]
    }
   ],
   "source": [
    "if benim_sayim > diğer_sayi:\n",
    "    print(\"benim sayım daha büyük\")\n",
    "elif diğer_sayi > benim_sayim:\n",
    "    print(\"benim sayim daha küçük\")\n",
    "else:\n",
    "    print(\"hiçbir koşul tutmadı, demek ki bunlar eşit\")"
   ]
  },
  {
   "cell_type": "code",
   "execution_count": 36,
   "id": "5f4a9232",
   "metadata": {},
   "outputs": [
    {
     "name": "stdout",
     "output_type": "stream",
     "text": [
      "kahraman giriniz: hercules\n"
     ]
    }
   ],
   "source": [
    "superkahraman =input(\"kahraman giriniz: \")"
   ]
  },
  {
   "cell_type": "code",
   "execution_count": 37,
   "id": "95a0ec15",
   "metadata": {},
   "outputs": [
    {
     "name": "stdout",
     "output_type": "stream",
     "text": [
      "söylediğiniz kişiyi tanımıyorum\n"
     ]
    }
   ],
   "source": [
    "if superkahraman ==\"batman\":\n",
    "    print(\"kahraman batman'miş, tebrikler\")\n",
    "elif superkahraman ==\"superman\":\n",
    "    print(\"o da iyidir, tebrikler\")\n",
    "elif superkahraman ==\"aquaman\":\n",
    "    print(\"çok güzel bir kahraman\")\n",
    "else:\n",
    "    print(\"söylediğiniz kişiyi tanımıyorum\")"
   ]
  },
  {
   "cell_type": "code",
   "execution_count": 38,
   "id": "28dd7ceb",
   "metadata": {},
   "outputs": [],
   "source": [
    "a = 5\n",
    "b = 10\n",
    "c = 15"
   ]
  },
  {
   "cell_type": "code",
   "execution_count": 39,
   "id": "b81e22cc",
   "metadata": {},
   "outputs": [
    {
     "name": "stdout",
     "output_type": "stream",
     "text": [
      "a b den küçük ve aynı zamanda b de c den küçük\n"
     ]
    }
   ],
   "source": [
    "if a > b and b > c:\n",
    "    print(\"a b den büyük ve aynı zamanda b de c den büyük\")\n",
    "elif a < b and b < c:\n",
    "    print(\"a b den küçük ve aynı zamanda b de c den küçük\")\n",
    "else:\n",
    "    print(\"bu koşullar tutmadı\")"
   ]
  },
  {
   "cell_type": "code",
   "execution_count": 40,
   "id": "416fa333",
   "metadata": {},
   "outputs": [],
   "source": [
    "karakter_canli = True"
   ]
  },
  {
   "cell_type": "code",
   "execution_count": 41,
   "id": "cb244222",
   "metadata": {},
   "outputs": [
    {
     "name": "stdout",
     "output_type": "stream",
     "text": [
      "karakter yaşıyor\n"
     ]
    }
   ],
   "source": [
    "if karakter_canli == True:\n",
    "    print(\"karakter yaşıyor\")\n",
    "else:\n",
    "    print(\"karakter ölü\")"
   ]
  },
  {
   "cell_type": "code",
   "execution_count": 42,
   "id": "dc26c29d",
   "metadata": {},
   "outputs": [
    {
     "name": "stdout",
     "output_type": "stream",
     "text": [
      "karakter yaşıyor\n"
     ]
    }
   ],
   "source": [
    "if karakter_canli:\n",
    "    print(\"karakter yaşıyor\")\n",
    "else:\n",
    "    print(\"karakter ölü\")"
   ]
  },
  {
   "cell_type": "code",
   "execution_count": 43,
   "id": "c57b74ed",
   "metadata": {},
   "outputs": [],
   "source": [
    "benim_string = \"merve\""
   ]
  },
  {
   "cell_type": "code",
   "execution_count": 44,
   "id": "a77679a8",
   "metadata": {},
   "outputs": [
    {
     "name": "stdout",
     "output_type": "stream",
     "text": [
      "sensin\n"
     ]
    }
   ],
   "source": [
    "if benim_string == \"merve\":\n",
    "    print(\"sensin\")\n",
    "else:\n",
    "    print(\"değilsin\")"
   ]
  },
  {
   "cell_type": "code",
   "execution_count": 47,
   "id": "33f134d6",
   "metadata": {},
   "outputs": [
    {
     "name": "stdout",
     "output_type": "stream",
     "text": [
      "merve diye bir string varmış\n"
     ]
    }
   ],
   "source": [
    "if \"merve\" in benim_string: \n",
    "    print(\"merve diye bir string varmış\")\n",
    "else:\n",
    "    print(\"yokmuş\")"
   ]
  },
  {
   "cell_type": "code",
   "execution_count": 48,
   "id": "d6cae180",
   "metadata": {},
   "outputs": [
    {
     "name": "stdout",
     "output_type": "stream",
     "text": [
      "yokmuş\n"
     ]
    }
   ],
   "source": [
    "if \"ayşe\" in benim_string: \n",
    "    print(\"merve diye bir string varmış\")\n",
    "else:\n",
    "    print(\"yokmuş\")"
   ]
  },
  {
   "cell_type": "code",
   "execution_count": 49,
   "id": "1bacf0a0",
   "metadata": {},
   "outputs": [],
   "source": [
    "numara_listesi = [10,20,30,40,50,60]"
   ]
  },
  {
   "cell_type": "code",
   "execution_count": 50,
   "id": "b3835566",
   "metadata": {},
   "outputs": [
    {
     "name": "stdout",
     "output_type": "stream",
     "text": [
      "evet var\n"
     ]
    }
   ],
   "source": [
    "if 50 in numara_listesi:\n",
    "    print(\"evet var\")\n",
    "else:\n",
    "    print(\"hayır yok\")"
   ]
  },
  {
   "cell_type": "code",
   "execution_count": 51,
   "id": "e855aa64",
   "metadata": {},
   "outputs": [],
   "source": [
    "kalori_sözlük = {\"muz\":100, \"elma\":200, \"karpuz\":300}"
   ]
  },
  {
   "cell_type": "code",
   "execution_count": 52,
   "id": "914860a2",
   "metadata": {},
   "outputs": [
    {
     "name": "stdout",
     "output_type": "stream",
     "text": [
      "evet\n"
     ]
    }
   ],
   "source": [
    "if \"muz\" in kalori_sözlük.keys():\n",
    "    print(\"evet\")"
   ]
  },
  {
   "cell_type": "code",
   "execution_count": 53,
   "id": "c23d9447",
   "metadata": {},
   "outputs": [
    {
     "name": "stdout",
     "output_type": "stream",
     "text": [
      "evet\n"
     ]
    }
   ],
   "source": [
    "if 300 in kalori_sözlük.values():\n",
    "    print(\"evet\")"
   ]
  },
  {
   "cell_type": "code",
   "execution_count": null,
   "id": "9db5a8c4",
   "metadata": {},
   "outputs": [],
   "source": []
  }
 ],
 "metadata": {
  "kernelspec": {
   "display_name": "Python 3 (ipykernel)",
   "language": "python",
   "name": "python3"
  },
  "language_info": {
   "codemirror_mode": {
    "name": "ipython",
    "version": 3
   },
   "file_extension": ".py",
   "mimetype": "text/x-python",
   "name": "python",
   "nbconvert_exporter": "python",
   "pygments_lexer": "ipython3",
   "version": "3.9.12"
  }
 },
 "nbformat": 4,
 "nbformat_minor": 5
}
